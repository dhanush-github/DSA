{
 "cells": [
  {
   "cell_type": "markdown",
   "id": "4f8c0608",
   "metadata": {},
   "source": [
    "QUESTION 1: Construct a sparse and a dense matrices of size 1000x1000"
   ]
  },
  {
   "cell_type": "code",
   "execution_count": 17,
   "id": "79e9d1da",
   "metadata": {},
   "outputs": [
    {
     "name": "stdout",
     "output_type": "stream",
     "text": [
      "compressed sparse row matrix \n",
      "\n",
      "  (0, 0)\t0.9452271908533945\n",
      "  (0, 1)\t0.9423015605747729\n",
      "  (0, 5)\t0.7202458136083725\n",
      "  (0, 15)\t0.9269840786276491\n",
      "  (0, 17)\t0.9017835227800881\n",
      "  (0, 18)\t0.6254855388067379\n",
      "  (0, 20)\t0.7439827710476087\n",
      "  (0, 22)\t0.9067321188649431\n",
      "  (0, 23)\t0.7920151045259571\n",
      "  (0, 25)\t0.7141294795655941\n",
      "  (0, 26)\t0.6922058956784798\n",
      "  (0, 28)\t0.7552419667503703\n",
      "  (0, 30)\t0.8853026848051763\n",
      "  (0, 31)\t0.731729455764354\n",
      "  (0, 32)\t0.9170545355216578\n",
      "  (0, 33)\t0.9427015522954404\n",
      "  (0, 36)\t0.8866156779337159\n",
      "  (0, 38)\t0.9566148351606313\n",
      "  (0, 42)\t0.641897660196396\n",
      "  (0, 44)\t0.7756990228349244\n",
      "  (0, 46)\t0.8189969583613929\n",
      "  (0, 47)\t0.9664101518797585\n",
      "  (0, 49)\t0.9175502346600947\n",
      "  (0, 50)\t0.9504214726681969\n",
      "  (0, 52)\t0.7105444496245277\n",
      "  :\t:\n",
      "  (999, 927)\t0.8733842026838978\n",
      "  (999, 933)\t0.7607844733556858\n",
      "  (999, 942)\t0.9808958290915533\n",
      "  (999, 943)\t0.8703800134504445\n",
      "  (999, 944)\t0.9607280123936728\n",
      "  (999, 945)\t0.9632978364538983\n",
      "  (999, 946)\t0.8742171174462107\n",
      "  (999, 949)\t0.885355779458438\n",
      "  (999, 953)\t0.761664155428692\n",
      "  (999, 956)\t0.6198027042766038\n",
      "  (999, 960)\t0.8384096407053577\n",
      "  (999, 961)\t0.9022051426461681\n",
      "  (999, 962)\t0.63624855752943\n",
      "  (999, 963)\t0.6436843115893333\n",
      "  (999, 965)\t0.8319449328475621\n",
      "  (999, 966)\t0.65629686710027\n",
      "  (999, 978)\t0.8021262279239686\n",
      "  (999, 981)\t0.8407604278852084\n",
      "  (999, 982)\t0.6759961136440332\n",
      "  (999, 984)\t0.9330579538979379\n",
      "  (999, 992)\t0.901112197399958\n",
      "  (999, 993)\t0.7829626593993725\n",
      "  (999, 994)\t0.9292862545928343\n",
      "  (999, 995)\t0.7164930299322929\n",
      "  (999, 996)\t0.8694903370582733\n",
      "compressed sparse row matrix converted to array \n",
      "\n",
      "[[0.94522719 0.94230156 0.         ... 0.86673749 0.89178393 0.87899813]\n",
      " [0.81790061 0.60459395 0.         ... 0.92567058 0.         0.84284613]\n",
      " [0.70118359 0.84855041 0.         ... 0.         0.72187067 0.        ]\n",
      " ...\n",
      " [0.97246208 0.7878394  0.         ... 0.         0.         0.        ]\n",
      " [0.         0.         0.60505449 ... 0.         0.92199437 0.        ]\n",
      " [0.88768755 0.64589481 0.72384959 ... 0.         0.         0.        ]]\n",
      "print dense matrix \n",
      "\n",
      "[[0.94522719 0.94230156 0.         ... 0.86673749 0.89178393 0.87899813]\n",
      " [0.81790061 0.60459395 0.         ... 0.92567058 0.         0.84284613]\n",
      " [0.70118359 0.84855041 0.         ... 0.         0.72187067 0.        ]\n",
      " ...\n",
      " [0.97246208 0.7878394  0.         ... 0.         0.         0.        ]\n",
      " [0.         0.         0.60505449 ... 0.         0.92199437 0.        ]\n",
      " [0.88768755 0.64589481 0.72384959 ... 0.         0.         0.        ]]\n"
     ]
    }
   ],
   "source": [
    "import matplotlib.pyplot as plt\n",
    "import numpy as np\n",
    "from scipy import sparse\n",
    "#size is 1000*1000\n",
    "#create a simple matrix in Numpy.\n",
    "A = np.random.uniform(size=(1000,1000))\n",
    "#Then we need to zero out a majority of the matrix elements, making it sparse.\n",
    "A[A < 0.6] = 0\n",
    "#store standard matrix X as a compressed sparse row matrix\n",
    "A_comp = sparse.csr_matrix(A) # ROW MAJOR ODRDER\n",
    "# A_list = list(A_csr)\n",
    "# print(A_list)\n",
    "# convert a sparse Scipy matrix representation back to Numpy multidimensional array.\n",
    "mult=A_comp.todense()\n",
    "print(\"compressed sparse row matrix \\n\")\n",
    "print(A_comp)\n",
    "print(\"compressed sparse row matrix converted to array \\n\")\n",
    "print(A_comp.toarray())\n",
    "cp = A_comp.toarray()\n",
    "print(\"print dense matrix \\n\")\n",
    "print(mult)"
   ]
  },
  {
   "cell_type": "markdown",
   "id": "f5e3f266",
   "metadata": {},
   "source": [
    "QUESTION 2: Identify the data structure to store the given sparse matrices"
   ]
  },
  {
   "cell_type": "markdown",
   "id": "a56e5082",
   "metadata": {},
   "source": [
    "The data structure used to store sparse matrix efficiently is Adjacency List.\n",
    "Adjacency list is a hybrid between an adjacency matrix and an edge list. An adjacency list is an array of linked lists that serves the purpose of representing a graph. What makes it unique is that its shape also makes it easy to see which vertices are adjacent to any other vertices. Each vertex in a graph can easily reference its neighbors through a linked list.\n",
    "\n",
    "\n"
   ]
  },
  {
   "cell_type": "markdown",
   "id": "cf8d4c03",
   "metadata": {},
   "source": [
    "QUESTION 3: Justify your selection of data structure"
   ]
  },
  {
   "cell_type": "markdown",
   "id": "0fc5f17e",
   "metadata": {},
   "source": [
    "1.It is fast to iterate over all edges because you can access any node neighbors directly\n",
    "2.It is fast to add/delete a node; easier than the matrix representation\n",
    "3.It also helps to find all the vertices adjacent to a vertex easily.\n",
    "4.An adjacency list is efficient in terms of storage because we only need to store the values for the edges. \n",
    "For a sparse graph with millions of vertices and edges, this can mean a lot of saved space."
   ]
  },
  {
   "cell_type": "markdown",
   "id": "74fa1260",
   "metadata": {},
   "source": [
    "QUESTION 4: Write a program to implement the data structure"
   ]
  },
  {
   "cell_type": "code",
   "execution_count": 23,
   "id": "2d080441",
   "metadata": {},
   "outputs": [
    {
     "name": "stdout",
     "output_type": "stream",
     "text": [
      "[[1. 0. 0. ... 0. 0. 0.]\n",
      " [0. 0. 1. ... 0. 0. 0.]\n",
      " [0. 1. 0. ... 0. 0. 0.]\n",
      " ...\n",
      " [0. 0. 0. ... 0. 0. 0.]\n",
      " [0. 0. 0. ... 0. 0. 0.]\n",
      " [0. 0. 0. ... 0. 0. 0.]]\n"
     ]
    }
   ],
   "source": [
    "import numpy as np\n",
    "from scipy.sparse import isspmatrix\n",
    "from numpy import count_nonzero\n",
    "\n",
    "# Creating sparse matrix\n",
    "\n",
    "# Position of non zero elements\n",
    "row = np.array([1,4,4,0,3,0,2,2,3,3])\n",
    "col = np.array([2,3,0,4,3,0,1,4,2,3])\n",
    "    \n",
    "# Creating sparse matrix of size 1000 X 1000\n",
    "sparseMatrix=np.zeros([1000,1000]) # initially all ten lakh elements will be zero\n",
    "for i,j in zip(row,col): #zip is used for one to one correspondance\n",
    "    sparseMatrix[i][j]=1\n",
    "print(sparseMatrix)"
   ]
  },
  {
   "cell_type": "code",
   "execution_count": 24,
   "id": "7f90c072",
   "metadata": {},
   "outputs": [
    {
     "name": "stdout",
     "output_type": "stream",
     "text": [
      "Adjacency List:\n",
      "0 -> 0 -> 4\n",
      "1 -> 2\n",
      "2 -> 1 -> 4\n",
      "3 -> 2 -> 3\n",
      "4 -> 0 -> 3\n"
     ]
    }
   ],
   "source": [
    "from collections import defaultdict\n",
    "import sys\n",
    "\n",
    "def convert(a):\n",
    "    adList = defaultdict(list)\n",
    "    for i in range(len(a)):\n",
    "        for j in range(len(a[i])):\n",
    "                       if a[i][j]== 1:\n",
    "                           adList[i].append(j)\n",
    "    return adList\n",
    "\n",
    "#Create an array of lists and traverse the adjacency matrix or the sparse matrix\n",
    "#If for any cell (i, j) in the matrix a[i][j] = 1, it means there is an edge from i to j, \n",
    "#so insert j in the list at i-th position in the array of lists.\n",
    "a = sparseMatrix # adjacency matrix\n",
    "AdList = convert(a)\n",
    "print(\"Adjacency List:\")\n",
    "\n",
    "# print the adjacency list\n",
    "for i in AdList:\n",
    "    print(i, end =\"\")\n",
    "    for j in AdList[i]:\n",
    "        print(\" -> {}\".format(j), end =\"\")\n",
    "    print()\n"
   ]
  },
  {
   "cell_type": "markdown",
   "id": "2b39bd3a",
   "metadata": {},
   "source": [
    "QUESTION 5: Write a function to visualize the sparse matrix in a graphical format"
   ]
  },
  {
   "cell_type": "code",
   "execution_count": 25,
   "id": "ab3e2c75",
   "metadata": {},
   "outputs": [
    {
     "name": "stdout",
     "output_type": "stream",
     "text": [
      "[(0, 0), (0, 4), (4, 2), (4, 3), (1, 2), (2, 3), (3, 3)]\n"
     ]
    },
    {
     "data": {
      "image/png": "[encoded data removed]",
      "text/plain": [
       "<Figure size 432x288 with 1 Axes>"
      ]
     },
     "metadata": {},
     "output_type": "display_data"
    }
   ],
   "source": [
    "import networkx as nx\n",
    "import matplotlib.pyplot as plt\n",
    "\n",
    "graph = AdList\n",
    "#stores all the edges which will constitute the graph\n",
    "edge = [] \n",
    "\n",
    "# Creating edges\n",
    "for i in graph:\n",
    "    for k in graph[i]:\n",
    "        temp = int(i), int(k)\n",
    "        edge.append(temp) # append the element to the empty list created\n",
    "\n",
    "g = nx.Graph() # g si the object of class Graph\n",
    "\n",
    "# Adding edges to the graph\n",
    "for e in edge:\n",
    "    g.add_edge(e[0], e[1])\n",
    "print(g.edges)\n",
    "\n",
    "nx.draw(g, with_labels = True) # to draw the graph nx.draw is used\n",
    "#plt.show()"
   ]
  },
  {
   "cell_type": "code",
   "execution_count": null,
   "id": "2fa47639",
   "metadata": {},
   "outputs": [],
   "source": []
  }
 ],
 "metadata": {
  "kernelspec": {
   "display_name": "Python 3",
   "language": "python",
   "name": "python3"
  },
  "language_info": {
   "codemirror_mode": {
    "name": "ipython",
    "version": 3
   },
   "file_extension": ".py",
   "mimetype": "text/x-python",
   "name": "python",
   "nbconvert_exporter": "python",
   "pygments_lexer": "ipython3",
   "version": "3.8.8"
  }
 },
 "nbformat": 4,
 "nbformat_minor": 5
}
