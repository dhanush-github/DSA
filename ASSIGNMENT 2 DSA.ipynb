{
 "cells": [
  {
   "cell_type": "markdown",
   "metadata": {},
   "source": [
    "## SOLUTION 1:\n",
    "\n",
    "\n",
    "Alice,While re-arranging her library, she takes inner most shelf & reverses the order of books, to automate this process\n",
    "we use data \"STACK\" data structre.\n",
    "\n",
    "### EXPLN:  \n",
    "\n",
    "Alice, reverses the order of order of books, while re-arranging her library, where the last book in the  shelf comes out to be the first and first book will be at last in this order. \n",
    "\n",
    "\"STACK\" uses the same procedure for insertion & removal. in which operations are based on \" LAST IN FIRST OUT (LIFO)\" order. so, this data structure, suits well for Alice to re-arrange her library.\n"
   ]
  },
  {
   "cell_type": "code",
   "execution_count": null,
   "metadata": {},
   "outputs": [],
   "source": []
  },
  {
   "cell_type": "markdown",
   "metadata": {},
   "source": [
    "# SOLUTION 2:"
   ]
  },
  {
   "cell_type": "markdown",
   "metadata": {},
   "source": [
    "In this problem, A & B are maintaining the same shelf:\n",
    "\n",
    "where \"A\" preferes to read the book which he places at the front of shelf, which can be interpreted as Enqueue & Dequeue Operations using \"QUEUE\" data structure.\n",
    "\n",
    "where \"B\" preferes to read the book, which he places at the rear/end of book shelf, which can be interpreted as Push & Pop opereations for inserting & removing using a \"STACK\" data structure.\n",
    "\n",
    "After, reading the books, \"A\" & \"B\" keep those books in a seperate shelf.\n",
    "\n",
    "as \"A\" Prefers to use \"Queue\" opereations, \"A\" will place the book at the front in a new shelf.\n",
    "\n",
    "as \"B\" Prefers to use \"STACK\" operation, \"B\" prefers to place the book at the end/rear of the new shelf.\n",
    "\n",
    "In order to to do/automate this process, we can use \"DEQUEUE\" data structure, which is commonly known as \"Double ended Queue\"\n",
    "\n",
    "\"DEQUEUE\" is similar to \"QUEUE\", in DEQUEUE we can perform Insert/Remove operations at both the ends, whereas in a QUEUE we will be able to perform operations only at one end.\n",
    "\n",
    "by using this \"DEQUEUE\", process becomes easy for \"A\" & \"B\", instead of using other data structures where it leads to space & time complexity."
   ]
  },
  {
   "cell_type": "code",
   "execution_count": 5,
   "metadata": {},
   "outputs": [],
   "source": [
    "# IMPLEMENTATION OF DEQUEUE.\n",
    "class Deque:\n",
    "    \n",
    "    \n",
    "    def __init__(self):\n",
    "        self.queue = []\n",
    "        self.count = 0\n",
    "\n",
    "    \n",
    "    def __repr__(self):\n",
    "        str = \"\"\n",
    "        if self.count == 0:\n",
    "            str += \"Book shelf is Empty.\"\n",
    "            return str\n",
    "        str += \"Book shelf:\\n\" + self.queue.__repr__()\n",
    "        return str\n",
    "             \n",
    " # FUNCTION WHICH IS USED TO INSERT BOOK AT THE START/BEGINING/FRONT.\n",
    "    def Insert_Front(self, data):\n",
    "        if self.count == 0:\n",
    "            self.queue = [data,]\n",
    "            self.count = 1\n",
    "            return\n",
    "         \n",
    "        self.queue.insert(0, data)\n",
    "        self.count += 1\n",
    "        return\n",
    "\n",
    "# FUNCTION WHICH IS USED TO INSERT BOOK AT END/REAR.\n",
    "    def Insert_Rear(self, data):\n",
    "        if self.count == 0:\n",
    "            self.queue = [data,]\n",
    "            self.count = 1\n",
    "            return\n",
    "         \n",
    "        self.queue.append(data)\n",
    "        self.count += 1\n",
    "        return\n",
    "\n",
    "# FUNCTION WHICH IS USED TO REMOVE BOOK AT FRONT/START/BEGINING.\n",
    "    def Remove_Front(self):\n",
    "        if self.count == 0:\n",
    "            raise ValueError(\"Invalid Operation\")\n",
    "             \n",
    "        x = self.queue.pop(0)\n",
    "        self.count -= 1\n",
    "        return x\n",
    "\n",
    "# FUNCTION WHICH IS USED TO REMOVE BOOK AT END/REAR. \n",
    "    def Remove_Rear(self):\n",
    "        if self.count == 0:\n",
    "            raise ValueError(\"Invalid Operation\")\n",
    "             \n",
    "        x = self.queue.pop()\n",
    "        self.count -= 1\n",
    "        return x         \n",
    "                "
   ]
  },
  {
   "cell_type": "code",
   "execution_count": 6,
   "metadata": {},
   "outputs": [
    {
     "name": "stdout",
     "output_type": "stream",
     "text": [
      "Book shelf is Empty.\n"
     ]
    }
   ],
   "source": [
    "# HERE, WE ARE INITIALING AN OBJECT \"SHELF\", OF DEQUEUE CLASS.\n",
    "shelf = Deque()\n",
    "print(shelf)"
   ]
  },
  {
   "cell_type": "code",
   "execution_count": 7,
   "metadata": {},
   "outputs": [],
   "source": [
    "shelf.Insert_Front('Book1')\n",
    "shelf.Insert_Rear('Book2')\n",
    "shelf.Insert_Rear('Book3')\n",
    "shelf.Insert_Rear('Book4')\n",
    "shelf.Insert_Rear('Book5')\n",
    "shelf.Insert_Rear('Book6')"
   ]
  },
  {
   "cell_type": "markdown",
   "metadata": {},
   "source": [
    "## THIS IS THE INITIAL BOOKSHELF"
   ]
  },
  {
   "cell_type": "code",
   "execution_count": 84,
   "metadata": {
    "scrolled": true
   },
   "outputs": [
    {
     "name": "stdout",
     "output_type": "stream",
     "text": [
      "Book shelf:\n",
      "['Book1', 'Book2', 'Book3', 'Book4', 'Book5', 'Book6']\n"
     ]
    }
   ],
   "source": [
    "print(shelf)"
   ]
  },
  {
   "cell_type": "markdown",
   "metadata": {},
   "source": []
  },
  {
   "cell_type": "markdown",
   "metadata": {},
   "source": [
    "## CREATING A NEW BOOKSHELF"
   ]
  },
  {
   "cell_type": "code",
   "execution_count": 8,
   "metadata": {},
   "outputs": [],
   "source": [
    "# A NEW BOOK SHELF IS CREATED.\n",
    "New_Shelf = []\n",
    "\n",
    "# A's book from initial shelf at the Front, is given name as A1_Book.\n",
    "A1_Book = shelf.Remove_Front()\n",
    "New_Shelf.append(A1_Book)\n",
    "\n",
    "# B's Book from initial shelf at Rear, is given name as B1_Book.\n",
    "B1_Book = shelf.Remove_Rear()\n",
    "New_Shelf.append(B1_Book)\n"
   ]
  },
  {
   "cell_type": "code",
   "execution_count": 9,
   "metadata": {},
   "outputs": [
    {
     "data": {
      "text/plain": [
       "['Book1', 'Book6']"
      ]
     },
     "execution_count": 9,
     "metadata": {},
     "output_type": "execute_result"
    }
   ],
   "source": [
    "# THIS IS THE ORDER, WHERE \"A\" & \"B\", PLACE THE BOOKS IN NEW SHELF.\n",
    "New_Shelf"
   ]
  }
 ],
 "metadata": {
  "kernelspec": {
   "display_name": "Python 3",
   "language": "python",
   "name": "python3"
  },
  "language_info": {
   "codemirror_mode": {
    "name": "ipython",
    "version": 3
   },
   "file_extension": ".py",
   "mimetype": "text/x-python",
   "name": "python",
   "nbconvert_exporter": "python",
   "pygments_lexer": "ipython3",
   "version": "3.8.5"
  }
 },
 "nbformat": 4,
 "nbformat_minor": 4
}
